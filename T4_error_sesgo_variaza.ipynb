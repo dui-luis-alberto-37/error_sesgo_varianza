{
 "cells": [
  {
   "cell_type": "markdown",
   "id": "1496074a-aef7-404a-9d40-7f771fb0bd3b",
   "metadata": {},
   "source": [
    "# Tarea 4: Error de sesgo y varianza"
   ]
  },
  {
   "cell_type": "markdown",
   "id": "fe63d867-2b6b-40fa-b92a-aedbd90b79e9",
   "metadata": {
    "jp-MarkdownHeadingCollapsed": true
   },
   "source": [
    "## Preparación y vizualizacipon de los datos"
   ]
  },
  {
   "cell_type": "code",
   "execution_count": 1,
   "id": "7794d11b-163a-46ad-b4a0-62991bcbe1a8",
   "metadata": {},
   "outputs": [
    {
     "data": {
      "text/html": [
       "<div>\n",
       "<style scoped>\n",
       "    .dataframe tbody tr th:only-of-type {\n",
       "        vertical-align: middle;\n",
       "    }\n",
       "\n",
       "    .dataframe tbody tr th {\n",
       "        vertical-align: top;\n",
       "    }\n",
       "\n",
       "    .dataframe thead th {\n",
       "        text-align: right;\n",
       "    }\n",
       "</style>\n",
       "<table border=\"1\" class=\"dataframe\">\n",
       "  <thead>\n",
       "    <tr style=\"text-align: right;\">\n",
       "      <th></th>\n",
       "      <th>name</th>\n",
       "      <th>role</th>\n",
       "      <th>type</th>\n",
       "      <th>demographic</th>\n",
       "      <th>description</th>\n",
       "      <th>units</th>\n",
       "      <th>missing_values</th>\n",
       "    </tr>\n",
       "  </thead>\n",
       "  <tbody>\n",
       "    <tr>\n",
       "      <th>0</th>\n",
       "      <td>Age</td>\n",
       "      <td>Feature</td>\n",
       "      <td>Integer</td>\n",
       "      <td>Age</td>\n",
       "      <td>Age of the patient. Any patient whose age exce...</td>\n",
       "      <td>years</td>\n",
       "      <td>no</td>\n",
       "    </tr>\n",
       "    <tr>\n",
       "      <th>1</th>\n",
       "      <td>Gender</td>\n",
       "      <td>Feature</td>\n",
       "      <td>Binary</td>\n",
       "      <td>Gender</td>\n",
       "      <td>Gender of the patient</td>\n",
       "      <td>None</td>\n",
       "      <td>no</td>\n",
       "    </tr>\n",
       "    <tr>\n",
       "      <th>2</th>\n",
       "      <td>TB</td>\n",
       "      <td>Feature</td>\n",
       "      <td>Continuous</td>\n",
       "      <td>None</td>\n",
       "      <td>Total Bilirubin</td>\n",
       "      <td>None</td>\n",
       "      <td>no</td>\n",
       "    </tr>\n",
       "    <tr>\n",
       "      <th>3</th>\n",
       "      <td>DB</td>\n",
       "      <td>Feature</td>\n",
       "      <td>Continuous</td>\n",
       "      <td>None</td>\n",
       "      <td>Direct Bilirubin</td>\n",
       "      <td>None</td>\n",
       "      <td>no</td>\n",
       "    </tr>\n",
       "    <tr>\n",
       "      <th>4</th>\n",
       "      <td>Alkphos</td>\n",
       "      <td>Feature</td>\n",
       "      <td>Integer</td>\n",
       "      <td>None</td>\n",
       "      <td>Alkaline Phosphotase</td>\n",
       "      <td>None</td>\n",
       "      <td>no</td>\n",
       "    </tr>\n",
       "    <tr>\n",
       "      <th>5</th>\n",
       "      <td>Sgpt</td>\n",
       "      <td>Feature</td>\n",
       "      <td>Integer</td>\n",
       "      <td>None</td>\n",
       "      <td>Alamine Aminotransferase</td>\n",
       "      <td>None</td>\n",
       "      <td>no</td>\n",
       "    </tr>\n",
       "    <tr>\n",
       "      <th>6</th>\n",
       "      <td>Sgot</td>\n",
       "      <td>Feature</td>\n",
       "      <td>Integer</td>\n",
       "      <td>None</td>\n",
       "      <td>Aspartate Aminotransferase</td>\n",
       "      <td>None</td>\n",
       "      <td>no</td>\n",
       "    </tr>\n",
       "    <tr>\n",
       "      <th>7</th>\n",
       "      <td>TP</td>\n",
       "      <td>Feature</td>\n",
       "      <td>Continuous</td>\n",
       "      <td>None</td>\n",
       "      <td>Total Proteins</td>\n",
       "      <td>None</td>\n",
       "      <td>no</td>\n",
       "    </tr>\n",
       "    <tr>\n",
       "      <th>8</th>\n",
       "      <td>ALB</td>\n",
       "      <td>Feature</td>\n",
       "      <td>Continuous</td>\n",
       "      <td>None</td>\n",
       "      <td>Albumin</td>\n",
       "      <td>None</td>\n",
       "      <td>no</td>\n",
       "    </tr>\n",
       "    <tr>\n",
       "      <th>9</th>\n",
       "      <td>A/G Ratio</td>\n",
       "      <td>Feature</td>\n",
       "      <td>Continuous</td>\n",
       "      <td>None</td>\n",
       "      <td>Albumin and Globulin Ratio</td>\n",
       "      <td>None</td>\n",
       "      <td>no</td>\n",
       "    </tr>\n",
       "    <tr>\n",
       "      <th>10</th>\n",
       "      <td>Selector</td>\n",
       "      <td>Target</td>\n",
       "      <td>Binary</td>\n",
       "      <td>None</td>\n",
       "      <td>Selector field used to split the data into two...</td>\n",
       "      <td>None</td>\n",
       "      <td>no</td>\n",
       "    </tr>\n",
       "  </tbody>\n",
       "</table>\n",
       "</div>"
      ],
      "text/plain": [
       "         name     role        type demographic  \\\n",
       "0         Age  Feature     Integer         Age   \n",
       "1      Gender  Feature      Binary      Gender   \n",
       "2          TB  Feature  Continuous        None   \n",
       "3          DB  Feature  Continuous        None   \n",
       "4     Alkphos  Feature     Integer        None   \n",
       "5        Sgpt  Feature     Integer        None   \n",
       "6        Sgot  Feature     Integer        None   \n",
       "7          TP  Feature  Continuous        None   \n",
       "8         ALB  Feature  Continuous        None   \n",
       "9   A/G Ratio  Feature  Continuous        None   \n",
       "10   Selector   Target      Binary        None   \n",
       "\n",
       "                                          description  units missing_values  \n",
       "0   Age of the patient. Any patient whose age exce...  years             no  \n",
       "1                               Gender of the patient   None             no  \n",
       "2                                     Total Bilirubin   None             no  \n",
       "3                                    Direct Bilirubin   None             no  \n",
       "4                                Alkaline Phosphotase   None             no  \n",
       "5                            Alamine Aminotransferase   None             no  \n",
       "6                          Aspartate Aminotransferase   None             no  \n",
       "7                                      Total Proteins   None             no  \n",
       "8                                             Albumin   None             no  \n",
       "9                          Albumin and Globulin Ratio   None             no  \n",
       "10  Selector field used to split the data into two...   None             no  "
      ]
     },
     "execution_count": 1,
     "metadata": {},
     "output_type": "execute_result"
    }
   ],
   "source": [
    "from ucimlrepo import fetch_ucirepo \n",
    "import pandas as pd\n",
    "import numpy as np\n",
    "import matplotlib.pyplot as plt\n",
    "\n",
    "ilpd_indian_liver_patient_dataset = fetch_ucirepo(id=225)\n",
    "\n",
    "\n",
    "X = ilpd_indian_liver_patient_dataset.data.features \n",
    "y = ilpd_indian_liver_patient_dataset.data.targets\n",
    "\n",
    "ilpd_indian_liver_patient_dataset.variables"
   ]
  },
  {
   "cell_type": "code",
   "execution_count": 2,
   "id": "d32685ac-bf94-4006-988b-07b1f3d568c8",
   "metadata": {},
   "outputs": [
    {
     "data": {
      "text/plain": [
       "0     Age of the patient. Any patient whose age exce...\n",
       "1                                 Gender of the patient\n",
       "2                                       Total Bilirubin\n",
       "3                                      Direct Bilirubin\n",
       "4                                  Alkaline Phosphotase\n",
       "5                              Alamine Aminotransferase\n",
       "6                            Aspartate Aminotransferase\n",
       "7                                        Total Proteins\n",
       "8                                               Albumin\n",
       "9                            Albumin and Globulin Ratio\n",
       "10    Selector field used to split the data into two...\n",
       "Name: description, dtype: object"
      ]
     },
     "execution_count": 2,
     "metadata": {},
     "output_type": "execute_result"
    }
   ],
   "source": [
    "descripciones = ilpd_indian_liver_patient_dataset.variables['description']\n",
    "descripciones"
   ]
  },
  {
   "cell_type": "code",
   "execution_count": 3,
   "id": "1d2d144c-15b4-400b-9543-f451d24fac59",
   "metadata": {},
   "outputs": [
    {
     "data": {
      "text/plain": [
       "('Age of the patient. Any patient whose age exceeded 89 is listed as being of age \"90\".',\n",
       " 'Selector field used to split the data into two sets (labeled by the experts)')"
      ]
     },
     "execution_count": 3,
     "metadata": {},
     "output_type": "execute_result"
    }
   ],
   "source": [
    "descripciones[0], descripciones[10]"
   ]
  },
  {
   "cell_type": "code",
   "execution_count": 4,
   "id": "d939c534-ce40-405a-8b8a-b7519b19d71e",
   "metadata": {},
   "outputs": [
    {
     "data": {
      "text/html": [
       "<div>\n",
       "<style scoped>\n",
       "    .dataframe tbody tr th:only-of-type {\n",
       "        vertical-align: middle;\n",
       "    }\n",
       "\n",
       "    .dataframe tbody tr th {\n",
       "        vertical-align: top;\n",
       "    }\n",
       "\n",
       "    .dataframe thead th {\n",
       "        text-align: right;\n",
       "    }\n",
       "</style>\n",
       "<table border=\"1\" class=\"dataframe\">\n",
       "  <thead>\n",
       "    <tr style=\"text-align: right;\">\n",
       "      <th></th>\n",
       "      <th>Age</th>\n",
       "      <th>Gender</th>\n",
       "      <th>TB</th>\n",
       "      <th>DB</th>\n",
       "      <th>Alkphos</th>\n",
       "      <th>Sgpt</th>\n",
       "      <th>Sgot</th>\n",
       "      <th>TP</th>\n",
       "      <th>ALB</th>\n",
       "      <th>A/G Ratio</th>\n",
       "      <th>Selector</th>\n",
       "    </tr>\n",
       "  </thead>\n",
       "  <tbody>\n",
       "    <tr>\n",
       "      <th>0</th>\n",
       "      <td>65</td>\n",
       "      <td>Female</td>\n",
       "      <td>0.7</td>\n",
       "      <td>0.1</td>\n",
       "      <td>187</td>\n",
       "      <td>16</td>\n",
       "      <td>18</td>\n",
       "      <td>6.8</td>\n",
       "      <td>3.3</td>\n",
       "      <td>0.90</td>\n",
       "      <td>1</td>\n",
       "    </tr>\n",
       "    <tr>\n",
       "      <th>1</th>\n",
       "      <td>62</td>\n",
       "      <td>Male</td>\n",
       "      <td>10.9</td>\n",
       "      <td>5.5</td>\n",
       "      <td>699</td>\n",
       "      <td>64</td>\n",
       "      <td>100</td>\n",
       "      <td>7.5</td>\n",
       "      <td>3.2</td>\n",
       "      <td>0.74</td>\n",
       "      <td>1</td>\n",
       "    </tr>\n",
       "    <tr>\n",
       "      <th>2</th>\n",
       "      <td>62</td>\n",
       "      <td>Male</td>\n",
       "      <td>7.3</td>\n",
       "      <td>4.1</td>\n",
       "      <td>490</td>\n",
       "      <td>60</td>\n",
       "      <td>68</td>\n",
       "      <td>7.0</td>\n",
       "      <td>3.3</td>\n",
       "      <td>0.89</td>\n",
       "      <td>1</td>\n",
       "    </tr>\n",
       "    <tr>\n",
       "      <th>3</th>\n",
       "      <td>58</td>\n",
       "      <td>Male</td>\n",
       "      <td>1.0</td>\n",
       "      <td>0.4</td>\n",
       "      <td>182</td>\n",
       "      <td>14</td>\n",
       "      <td>20</td>\n",
       "      <td>6.8</td>\n",
       "      <td>3.4</td>\n",
       "      <td>1.00</td>\n",
       "      <td>1</td>\n",
       "    </tr>\n",
       "    <tr>\n",
       "      <th>4</th>\n",
       "      <td>72</td>\n",
       "      <td>Male</td>\n",
       "      <td>3.9</td>\n",
       "      <td>2.0</td>\n",
       "      <td>195</td>\n",
       "      <td>27</td>\n",
       "      <td>59</td>\n",
       "      <td>7.3</td>\n",
       "      <td>2.4</td>\n",
       "      <td>0.40</td>\n",
       "      <td>1</td>\n",
       "    </tr>\n",
       "    <tr>\n",
       "      <th>...</th>\n",
       "      <td>...</td>\n",
       "      <td>...</td>\n",
       "      <td>...</td>\n",
       "      <td>...</td>\n",
       "      <td>...</td>\n",
       "      <td>...</td>\n",
       "      <td>...</td>\n",
       "      <td>...</td>\n",
       "      <td>...</td>\n",
       "      <td>...</td>\n",
       "      <td>...</td>\n",
       "    </tr>\n",
       "    <tr>\n",
       "      <th>578</th>\n",
       "      <td>60</td>\n",
       "      <td>Male</td>\n",
       "      <td>0.5</td>\n",
       "      <td>0.1</td>\n",
       "      <td>500</td>\n",
       "      <td>20</td>\n",
       "      <td>34</td>\n",
       "      <td>5.9</td>\n",
       "      <td>1.6</td>\n",
       "      <td>0.37</td>\n",
       "      <td>2</td>\n",
       "    </tr>\n",
       "    <tr>\n",
       "      <th>579</th>\n",
       "      <td>40</td>\n",
       "      <td>Male</td>\n",
       "      <td>0.6</td>\n",
       "      <td>0.1</td>\n",
       "      <td>98</td>\n",
       "      <td>35</td>\n",
       "      <td>31</td>\n",
       "      <td>6.0</td>\n",
       "      <td>3.2</td>\n",
       "      <td>1.10</td>\n",
       "      <td>1</td>\n",
       "    </tr>\n",
       "    <tr>\n",
       "      <th>580</th>\n",
       "      <td>52</td>\n",
       "      <td>Male</td>\n",
       "      <td>0.8</td>\n",
       "      <td>0.2</td>\n",
       "      <td>245</td>\n",
       "      <td>48</td>\n",
       "      <td>49</td>\n",
       "      <td>6.4</td>\n",
       "      <td>3.2</td>\n",
       "      <td>1.00</td>\n",
       "      <td>1</td>\n",
       "    </tr>\n",
       "    <tr>\n",
       "      <th>581</th>\n",
       "      <td>31</td>\n",
       "      <td>Male</td>\n",
       "      <td>1.3</td>\n",
       "      <td>0.5</td>\n",
       "      <td>184</td>\n",
       "      <td>29</td>\n",
       "      <td>32</td>\n",
       "      <td>6.8</td>\n",
       "      <td>3.4</td>\n",
       "      <td>1.00</td>\n",
       "      <td>1</td>\n",
       "    </tr>\n",
       "    <tr>\n",
       "      <th>582</th>\n",
       "      <td>38</td>\n",
       "      <td>Male</td>\n",
       "      <td>1.0</td>\n",
       "      <td>0.3</td>\n",
       "      <td>216</td>\n",
       "      <td>21</td>\n",
       "      <td>24</td>\n",
       "      <td>7.3</td>\n",
       "      <td>4.4</td>\n",
       "      <td>1.50</td>\n",
       "      <td>2</td>\n",
       "    </tr>\n",
       "  </tbody>\n",
       "</table>\n",
       "<p>583 rows × 11 columns</p>\n",
       "</div>"
      ],
      "text/plain": [
       "     Age  Gender    TB   DB  Alkphos  Sgpt  Sgot   TP  ALB  A/G Ratio  \\\n",
       "0     65  Female   0.7  0.1      187    16    18  6.8  3.3       0.90   \n",
       "1     62    Male  10.9  5.5      699    64   100  7.5  3.2       0.74   \n",
       "2     62    Male   7.3  4.1      490    60    68  7.0  3.3       0.89   \n",
       "3     58    Male   1.0  0.4      182    14    20  6.8  3.4       1.00   \n",
       "4     72    Male   3.9  2.0      195    27    59  7.3  2.4       0.40   \n",
       "..   ...     ...   ...  ...      ...   ...   ...  ...  ...        ...   \n",
       "578   60    Male   0.5  0.1      500    20    34  5.9  1.6       0.37   \n",
       "579   40    Male   0.6  0.1       98    35    31  6.0  3.2       1.10   \n",
       "580   52    Male   0.8  0.2      245    48    49  6.4  3.2       1.00   \n",
       "581   31    Male   1.3  0.5      184    29    32  6.8  3.4       1.00   \n",
       "582   38    Male   1.0  0.3      216    21    24  7.3  4.4       1.50   \n",
       "\n",
       "     Selector  \n",
       "0           1  \n",
       "1           1  \n",
       "2           1  \n",
       "3           1  \n",
       "4           1  \n",
       "..        ...  \n",
       "578         2  \n",
       "579         1  \n",
       "580         1  \n",
       "581         1  \n",
       "582         2  \n",
       "\n",
       "[583 rows x 11 columns]"
      ]
     },
     "execution_count": 4,
     "metadata": {},
     "output_type": "execute_result"
    }
   ],
   "source": [
    "df = ilpd_indian_liver_patient_dataset.data.original\n",
    "df#.head(10)"
   ]
  },
  {
   "cell_type": "code",
   "execution_count": 5,
   "id": "9e742d1e-2d12-4a5e-b0d7-422021a0b8c4",
   "metadata": {},
   "outputs": [
    {
     "data": {
      "text/html": [
       "<div>\n",
       "<style scoped>\n",
       "    .dataframe tbody tr th:only-of-type {\n",
       "        vertical-align: middle;\n",
       "    }\n",
       "\n",
       "    .dataframe tbody tr th {\n",
       "        vertical-align: top;\n",
       "    }\n",
       "\n",
       "    .dataframe thead th {\n",
       "        text-align: right;\n",
       "    }\n",
       "</style>\n",
       "<table border=\"1\" class=\"dataframe\">\n",
       "  <thead>\n",
       "    <tr style=\"text-align: right;\">\n",
       "      <th></th>\n",
       "      <th>Age</th>\n",
       "      <th>TB</th>\n",
       "      <th>DB</th>\n",
       "      <th>Alkphos</th>\n",
       "      <th>Sgpt</th>\n",
       "      <th>Sgot</th>\n",
       "      <th>TP</th>\n",
       "      <th>ALB</th>\n",
       "      <th>A/G Ratio</th>\n",
       "      <th>Selector</th>\n",
       "    </tr>\n",
       "  </thead>\n",
       "  <tbody>\n",
       "    <tr>\n",
       "      <th>count</th>\n",
       "      <td>583.000000</td>\n",
       "      <td>583.000000</td>\n",
       "      <td>583.000000</td>\n",
       "      <td>583.000000</td>\n",
       "      <td>583.000000</td>\n",
       "      <td>583.000000</td>\n",
       "      <td>583.000000</td>\n",
       "      <td>583.000000</td>\n",
       "      <td>579.000000</td>\n",
       "      <td>583.000000</td>\n",
       "    </tr>\n",
       "    <tr>\n",
       "      <th>mean</th>\n",
       "      <td>44.746141</td>\n",
       "      <td>3.298799</td>\n",
       "      <td>1.486106</td>\n",
       "      <td>290.576329</td>\n",
       "      <td>80.713551</td>\n",
       "      <td>109.910806</td>\n",
       "      <td>6.483190</td>\n",
       "      <td>3.141852</td>\n",
       "      <td>0.947064</td>\n",
       "      <td>1.286449</td>\n",
       "    </tr>\n",
       "    <tr>\n",
       "      <th>std</th>\n",
       "      <td>16.189833</td>\n",
       "      <td>6.209522</td>\n",
       "      <td>2.808498</td>\n",
       "      <td>242.937989</td>\n",
       "      <td>182.620356</td>\n",
       "      <td>288.918529</td>\n",
       "      <td>1.085451</td>\n",
       "      <td>0.795519</td>\n",
       "      <td>0.319592</td>\n",
       "      <td>0.452490</td>\n",
       "    </tr>\n",
       "    <tr>\n",
       "      <th>min</th>\n",
       "      <td>4.000000</td>\n",
       "      <td>0.400000</td>\n",
       "      <td>0.100000</td>\n",
       "      <td>63.000000</td>\n",
       "      <td>10.000000</td>\n",
       "      <td>10.000000</td>\n",
       "      <td>2.700000</td>\n",
       "      <td>0.900000</td>\n",
       "      <td>0.300000</td>\n",
       "      <td>1.000000</td>\n",
       "    </tr>\n",
       "    <tr>\n",
       "      <th>25%</th>\n",
       "      <td>33.000000</td>\n",
       "      <td>0.800000</td>\n",
       "      <td>0.200000</td>\n",
       "      <td>175.500000</td>\n",
       "      <td>23.000000</td>\n",
       "      <td>25.000000</td>\n",
       "      <td>5.800000</td>\n",
       "      <td>2.600000</td>\n",
       "      <td>0.700000</td>\n",
       "      <td>1.000000</td>\n",
       "    </tr>\n",
       "    <tr>\n",
       "      <th>50%</th>\n",
       "      <td>45.000000</td>\n",
       "      <td>1.000000</td>\n",
       "      <td>0.300000</td>\n",
       "      <td>208.000000</td>\n",
       "      <td>35.000000</td>\n",
       "      <td>42.000000</td>\n",
       "      <td>6.600000</td>\n",
       "      <td>3.100000</td>\n",
       "      <td>0.930000</td>\n",
       "      <td>1.000000</td>\n",
       "    </tr>\n",
       "    <tr>\n",
       "      <th>75%</th>\n",
       "      <td>58.000000</td>\n",
       "      <td>2.600000</td>\n",
       "      <td>1.300000</td>\n",
       "      <td>298.000000</td>\n",
       "      <td>60.500000</td>\n",
       "      <td>87.000000</td>\n",
       "      <td>7.200000</td>\n",
       "      <td>3.800000</td>\n",
       "      <td>1.100000</td>\n",
       "      <td>2.000000</td>\n",
       "    </tr>\n",
       "    <tr>\n",
       "      <th>max</th>\n",
       "      <td>90.000000</td>\n",
       "      <td>75.000000</td>\n",
       "      <td>19.700000</td>\n",
       "      <td>2110.000000</td>\n",
       "      <td>2000.000000</td>\n",
       "      <td>4929.000000</td>\n",
       "      <td>9.600000</td>\n",
       "      <td>5.500000</td>\n",
       "      <td>2.800000</td>\n",
       "      <td>2.000000</td>\n",
       "    </tr>\n",
       "  </tbody>\n",
       "</table>\n",
       "</div>"
      ],
      "text/plain": [
       "              Age          TB          DB      Alkphos         Sgpt  \\\n",
       "count  583.000000  583.000000  583.000000   583.000000   583.000000   \n",
       "mean    44.746141    3.298799    1.486106   290.576329    80.713551   \n",
       "std     16.189833    6.209522    2.808498   242.937989   182.620356   \n",
       "min      4.000000    0.400000    0.100000    63.000000    10.000000   \n",
       "25%     33.000000    0.800000    0.200000   175.500000    23.000000   \n",
       "50%     45.000000    1.000000    0.300000   208.000000    35.000000   \n",
       "75%     58.000000    2.600000    1.300000   298.000000    60.500000   \n",
       "max     90.000000   75.000000   19.700000  2110.000000  2000.000000   \n",
       "\n",
       "              Sgot          TP         ALB   A/G Ratio    Selector  \n",
       "count   583.000000  583.000000  583.000000  579.000000  583.000000  \n",
       "mean    109.910806    6.483190    3.141852    0.947064    1.286449  \n",
       "std     288.918529    1.085451    0.795519    0.319592    0.452490  \n",
       "min      10.000000    2.700000    0.900000    0.300000    1.000000  \n",
       "25%      25.000000    5.800000    2.600000    0.700000    1.000000  \n",
       "50%      42.000000    6.600000    3.100000    0.930000    1.000000  \n",
       "75%      87.000000    7.200000    3.800000    1.100000    2.000000  \n",
       "max    4929.000000    9.600000    5.500000    2.800000    2.000000  "
      ]
     },
     "execution_count": 5,
     "metadata": {},
     "output_type": "execute_result"
    }
   ],
   "source": [
    "df.describe()"
   ]
  },
  {
   "cell_type": "raw",
   "id": "5aded4cc-af45-4849-acfe-a6b9df2db8f3",
   "metadata": {},
   "source": [
    "Hasta aqui notemos que las desviaciones estandares son muy altas, y que los \n",
    "máximos están muy por encima de las medias."
   ]
  },
  {
   "cell_type": "markdown",
   "id": "91354bfd-7958-437b-b36f-55d5a5977fff",
   "metadata": {
    "jp-MarkdownHeadingCollapsed": true
   },
   "source": [
    "## Outliers"
   ]
  },
  {
   "cell_type": "code",
   "execution_count": 6,
   "id": "2c346e8e-9a10-4965-abcd-4c54d4224338",
   "metadata": {},
   "outputs": [
    {
     "data": {
      "text/plain": [
       "<Axes: >"
      ]
     },
     "execution_count": 6,
     "metadata": {},
     "output_type": "execute_result"
    },
    {
     "data": {
      "image/png": "[encoded data removed]",
      "text/plain": [
       "<Figure size 640x480 with 1 Axes>"
      ]
     },
     "metadata": {},
     "output_type": "display_data"
    }
   ],
   "source": [
    "df.boxplot()"
   ]
  },
  {
   "cell_type": "code",
   "execution_count": 7,
   "id": "66e98f37-ad15-4d11-a430-96961267db2b",
   "metadata": {},
   "outputs": [
    {
     "data": {
      "image/png": "[encoded data removed]",
      "text/plain": [
       "<Figure size 640x480 with 1 Axes>"
      ]
     },
     "metadata": {},
     "output_type": "display_data"
    }
   ],
   "source": [
    "df.drop(['Alkphos', 'Sgpt', 'Sgot'], axis = 1).boxplot();\n",
    "plt.show()"
   ]
  },
  {
   "cell_type": "raw",
   "id": "161f3458-1ac7-4440-9e01-c547ecf982af",
   "metadata": {},
   "source": [
    "Parece que solo las columnas 'Age', 'ALB', y 'Selector' (nuestra clase) no\n",
    "tinen outliers.\n",
    "\n",
    "Para el manejo de los demás iremos recoriendo las colúmnas según su desviación\n",
    "estandar (de mayor a menor), se investigará los rángos normales de cada uno de\n",
    "los datos, y se considerará un rago que abarque 6 veces la distancia a la media\n",
    "de esos rangos hacia los extremos (se intentó en con 5, pero reusltaron 45 datos\n",
    "apenas de limpiar las columnas 'Sgot' 'Alkphos'), es decir, si el rango normal de un dato es\n",
    "(10, 20), se considerará el rango (-10, 50), que enrealidad será (0, 50), pués\n",
    "no hay datos negativos.\n",
    "\n",
    "Aquí están los rangos normales, seguido de los considerados y la liga de donde\n",
    "obutuvo la información de cada uno.\n",
    "\n",
    "Sgot: (8, 33), (0, 108), https://my.clevelandclinic.org/health/diagnostics/22147-aspartate-transferase-ast\n",
    "\n",
    "Alkphos: (44, 147), (0, 456), https://my.clevelandclinic.org/health/diagnostics/22029-alkaline-phosphatase-alp\n",
    "\n",
    "Sgpt: (7, 56), (0, 203), https://my.clevelandclinic.org/health/diagnostics/22028-alanine-transaminase-alt\n",
    "\n"
   ]
  },
  {
   "cell_type": "code",
   "execution_count": 8,
   "id": "955a16bd-b129-4f02-8eab-09d97be283bd",
   "metadata": {},
   "outputs": [
    {
     "data": {
      "image/png": "[encoded data removed]",
      "text/plain": [
       "<Figure size 1600x800 with 1 Axes>"
      ]
     },
     "metadata": {},
     "output_type": "display_data"
    }
   ],
   "source": [
    "df = df[df['Sgot'] <= 95.5]\n",
    "df = df[df['Alkphos'] <= 404.5]\n",
    "df = df[df['Sgpt'] <= 178.5]\n",
    "df.boxplot(figsize = (16, 8))\n",
    "plt.show()"
   ]
  },
  {
   "cell_type": "code",
   "execution_count": 9,
   "id": "be369e27-dda2-4a6b-93fd-c3e688409b0d",
   "metadata": {},
   "outputs": [
    {
     "data": {
      "text/html": [
       "<div>\n",
       "<style scoped>\n",
       "    .dataframe tbody tr th:only-of-type {\n",
       "        vertical-align: middle;\n",
       "    }\n",
       "\n",
       "    .dataframe tbody tr th {\n",
       "        vertical-align: top;\n",
       "    }\n",
       "\n",
       "    .dataframe thead th {\n",
       "        text-align: right;\n",
       "    }\n",
       "</style>\n",
       "<table border=\"1\" class=\"dataframe\">\n",
       "  <thead>\n",
       "    <tr style=\"text-align: right;\">\n",
       "      <th></th>\n",
       "      <th>Age</th>\n",
       "      <th>TB</th>\n",
       "      <th>DB</th>\n",
       "      <th>Alkphos</th>\n",
       "      <th>Sgpt</th>\n",
       "      <th>Sgot</th>\n",
       "      <th>TP</th>\n",
       "      <th>ALB</th>\n",
       "      <th>A/G Ratio</th>\n",
       "      <th>Selector</th>\n",
       "    </tr>\n",
       "  </thead>\n",
       "  <tbody>\n",
       "    <tr>\n",
       "      <th>count</th>\n",
       "      <td>400.000000</td>\n",
       "      <td>400.000000</td>\n",
       "      <td>400.000000</td>\n",
       "      <td>400.000000</td>\n",
       "      <td>400.000000</td>\n",
       "      <td>400.000000</td>\n",
       "      <td>400.000000</td>\n",
       "      <td>400.000000</td>\n",
       "      <td>396.000000</td>\n",
       "      <td>400.000000</td>\n",
       "    </tr>\n",
       "    <tr>\n",
       "      <th>mean</th>\n",
       "      <td>44.752500</td>\n",
       "      <td>1.802250</td>\n",
       "      <td>0.704750</td>\n",
       "      <td>205.972500</td>\n",
       "      <td>33.660000</td>\n",
       "      <td>37.355000</td>\n",
       "      <td>6.517250</td>\n",
       "      <td>3.246250</td>\n",
       "      <td>0.987096</td>\n",
       "      <td>1.367500</td>\n",
       "    </tr>\n",
       "    <tr>\n",
       "      <th>std</th>\n",
       "      <td>16.392469</td>\n",
       "      <td>4.494711</td>\n",
       "      <td>1.541312</td>\n",
       "      <td>60.944379</td>\n",
       "      <td>21.377368</td>\n",
       "      <td>20.171917</td>\n",
       "      <td>1.111357</td>\n",
       "      <td>0.807103</td>\n",
       "      <td>0.288239</td>\n",
       "      <td>0.482728</td>\n",
       "    </tr>\n",
       "    <tr>\n",
       "      <th>min</th>\n",
       "      <td>4.000000</td>\n",
       "      <td>0.500000</td>\n",
       "      <td>0.100000</td>\n",
       "      <td>63.000000</td>\n",
       "      <td>10.000000</td>\n",
       "      <td>10.000000</td>\n",
       "      <td>2.700000</td>\n",
       "      <td>0.900000</td>\n",
       "      <td>0.300000</td>\n",
       "      <td>1.000000</td>\n",
       "    </tr>\n",
       "    <tr>\n",
       "      <th>25%</th>\n",
       "      <td>32.000000</td>\n",
       "      <td>0.700000</td>\n",
       "      <td>0.200000</td>\n",
       "      <td>165.000000</td>\n",
       "      <td>21.000000</td>\n",
       "      <td>22.000000</td>\n",
       "      <td>5.800000</td>\n",
       "      <td>2.700000</td>\n",
       "      <td>0.800000</td>\n",
       "      <td>1.000000</td>\n",
       "    </tr>\n",
       "    <tr>\n",
       "      <th>50%</th>\n",
       "      <td>45.000000</td>\n",
       "      <td>0.900000</td>\n",
       "      <td>0.200000</td>\n",
       "      <td>192.000000</td>\n",
       "      <td>28.000000</td>\n",
       "      <td>31.000000</td>\n",
       "      <td>6.600000</td>\n",
       "      <td>3.200000</td>\n",
       "      <td>1.000000</td>\n",
       "      <td>1.000000</td>\n",
       "    </tr>\n",
       "    <tr>\n",
       "      <th>75%</th>\n",
       "      <td>57.000000</td>\n",
       "      <td>1.400000</td>\n",
       "      <td>0.600000</td>\n",
       "      <td>230.000000</td>\n",
       "      <td>40.000000</td>\n",
       "      <td>48.000000</td>\n",
       "      <td>7.200000</td>\n",
       "      <td>3.900000</td>\n",
       "      <td>1.100000</td>\n",
       "      <td>2.000000</td>\n",
       "    </tr>\n",
       "    <tr>\n",
       "      <th>max</th>\n",
       "      <td>85.000000</td>\n",
       "      <td>75.000000</td>\n",
       "      <td>17.100000</td>\n",
       "      <td>401.000000</td>\n",
       "      <td>160.000000</td>\n",
       "      <td>95.000000</td>\n",
       "      <td>9.600000</td>\n",
       "      <td>5.500000</td>\n",
       "      <td>1.850000</td>\n",
       "      <td>2.000000</td>\n",
       "    </tr>\n",
       "  </tbody>\n",
       "</table>\n",
       "</div>"
      ],
      "text/plain": [
       "              Age          TB          DB     Alkphos        Sgpt        Sgot  \\\n",
       "count  400.000000  400.000000  400.000000  400.000000  400.000000  400.000000   \n",
       "mean    44.752500    1.802250    0.704750  205.972500   33.660000   37.355000   \n",
       "std     16.392469    4.494711    1.541312   60.944379   21.377368   20.171917   \n",
       "min      4.000000    0.500000    0.100000   63.000000   10.000000   10.000000   \n",
       "25%     32.000000    0.700000    0.200000  165.000000   21.000000   22.000000   \n",
       "50%     45.000000    0.900000    0.200000  192.000000   28.000000   31.000000   \n",
       "75%     57.000000    1.400000    0.600000  230.000000   40.000000   48.000000   \n",
       "max     85.000000   75.000000   17.100000  401.000000  160.000000   95.000000   \n",
       "\n",
       "               TP         ALB   A/G Ratio    Selector  \n",
       "count  400.000000  400.000000  396.000000  400.000000  \n",
       "mean     6.517250    3.246250    0.987096    1.367500  \n",
       "std      1.111357    0.807103    0.288239    0.482728  \n",
       "min      2.700000    0.900000    0.300000    1.000000  \n",
       "25%      5.800000    2.700000    0.800000    1.000000  \n",
       "50%      6.600000    3.200000    1.000000    1.000000  \n",
       "75%      7.200000    3.900000    1.100000    2.000000  \n",
       "max      9.600000    5.500000    1.850000    2.000000  "
      ]
     },
     "execution_count": 9,
     "metadata": {},
     "output_type": "execute_result"
    }
   ],
   "source": [
    "df.describe()"
   ]
  },
  {
   "cell_type": "markdown",
   "id": "41f27480-a011-499a-b1f4-3e61f9b25933",
   "metadata": {
    "jp-MarkdownHeadingCollapsed": true
   },
   "source": [
    "## Datos faltantes"
   ]
  },
  {
   "cell_type": "code",
   "execution_count": 10,
   "id": "92f59c22-5bc3-4591-9d11-f4f45f43c78c",
   "metadata": {},
   "outputs": [
    {
     "name": "stdout",
     "output_type": "stream",
     "text": [
      "A/G Ratio tiene 4 valores faltantes\n",
      "No hay valores faltantes\n"
     ]
    }
   ],
   "source": [
    "for c in df.columns:\n",
    "    na = df[c].isnull().sum()\n",
    "    if na > 0:\n",
    "        print(f'{c} tiene {na} valores faltantes')\n",
    "if na == 0: print('No hay valores faltantes')"
   ]
  },
  {
   "cell_type": "code",
   "execution_count": 11,
   "id": "ac664523-a4d8-4075-9f0f-3dce533f3f97",
   "metadata": {},
   "outputs": [
    {
     "data": {
      "text/plain": [
       "Age          -5.25250\n",
       "TB           -0.90225\n",
       "DB           -0.37975\n",
       "Alkphos     -29.72250\n",
       "Sgpt        -12.66000\n",
       "Sgot         -0.35500\n",
       "TP            0.18275\n",
       "ALB           0.37875\n",
       "A/G Ratio         NaN\n",
       "Selector      0.13250\n",
       "Name: mean, dtype: float64"
      ]
     },
     "execution_count": 11,
     "metadata": {},
     "output_type": "execute_result"
    }
   ],
   "source": [
    "na_desc = df[df['A/G Ratio'].isna()].describe().loc['mean']\n",
    "na_desc-df.describe().loc['mean']"
   ]
  },
  {
   "cell_type": "raw",
   "id": "889aad95-52ec-43cc-8c96-9b56cc7351a9",
   "metadata": {},
   "source": [
    "Los datos genéricos se parecen a los que tienen dados faltantes a excepción de nuestras columnas que tienen más datos atípicos, por loq ue rellenaré los datos con el valor medio de 'A/G ratio'"
   ]
  },
  {
   "cell_type": "code",
   "execution_count": 12,
   "id": "e651ded3-abcd-4c09-a684-f6fb8aedadb7",
   "metadata": {},
   "outputs": [
    {
     "data": {
      "text/plain": [
       "np.float64(0.9870959595959595)"
      ]
     },
     "execution_count": 12,
     "metadata": {},
     "output_type": "execute_result"
    }
   ],
   "source": [
    "media = df['A/G Ratio'].mean()\n",
    "media"
   ]
  },
  {
   "cell_type": "code",
   "execution_count": 13,
   "id": "1c5ab22d-4aca-4f1b-8ced-100d83a08e38",
   "metadata": {},
   "outputs": [],
   "source": [
    "df ['A/G Ratio'] = df['A/G Ratio'].fillna(media)"
   ]
  },
  {
   "cell_type": "code",
   "execution_count": 14,
   "id": "04db3ab7-c73d-40f3-bbb4-c0318075856b",
   "metadata": {},
   "outputs": [
    {
     "name": "stdout",
     "output_type": "stream",
     "text": [
      "No hay valores faltantes\n"
     ]
    }
   ],
   "source": [
    "for c in df.columns:\n",
    "    na = df[c].isnull().sum()\n",
    "    if na > 0:\n",
    "        print(f'{c} tiene {na} valores faltantes')\n",
    "if na == 0: print('No hay valores faltantes')"
   ]
  },
  {
   "cell_type": "markdown",
   "id": "0573466f-abe4-4bed-bb47-af2bef051769",
   "metadata": {
    "jp-MarkdownHeadingCollapsed": true
   },
   "source": [
    "## Limpieza de datos"
   ]
  },
  {
   "cell_type": "code",
   "execution_count": 15,
   "id": "821988bd-1d34-40bc-9702-bf24e86b14d0",
   "metadata": {},
   "outputs": [
    {
     "data": {
      "text/plain": [
       "['Age type: int64',\n",
       " 'Gender type: object',\n",
       " 'TB type: float64',\n",
       " 'DB type: float64',\n",
       " 'Alkphos type: int64',\n",
       " 'Sgpt type: int64',\n",
       " 'Sgot type: int64',\n",
       " 'TP type: float64',\n",
       " 'ALB type: float64',\n",
       " 'A/G Ratio type: float64',\n",
       " 'Selector type: int64']"
      ]
     },
     "execution_count": 15,
     "metadata": {},
     "output_type": "execute_result"
    }
   ],
   "source": [
    "[f'{i} type: {df[i].dtype}' for i in df.columns]"
   ]
  },
  {
   "cell_type": "code",
   "execution_count": 16,
   "id": "b2e4c811-3f1e-451f-b9fa-adc9dd86cf57",
   "metadata": {},
   "outputs": [
    {
     "data": {
      "text/plain": [
       "0    Female\n",
       "3      Male\n",
       "4      Male\n",
       "5      Male\n",
       "6    Female\n",
       "Name: Gender, dtype: object"
      ]
     },
     "execution_count": 16,
     "metadata": {},
     "output_type": "execute_result"
    }
   ],
   "source": [
    "df['Gender'].head()"
   ]
  },
  {
   "cell_type": "code",
   "execution_count": 17,
   "id": "56640ff6-dd36-473d-bfca-bd2bae44230c",
   "metadata": {},
   "outputs": [],
   "source": [
    "temporal_dic = {\n",
    "    'Male': 0,\n",
    "    'Female' : 1\n",
    "}\n",
    "\n",
    "\n",
    "df['Gender'] = [temporal_dic[c] for c in df['Gender']]"
   ]
  },
  {
   "cell_type": "code",
   "execution_count": 18,
   "id": "c343ee83-20fb-463e-a1fb-f42904546521",
   "metadata": {},
   "outputs": [
    {
     "data": {
      "text/plain": [
       "array([1, 0])"
      ]
     },
     "execution_count": 18,
     "metadata": {},
     "output_type": "execute_result"
    }
   ],
   "source": [
    "df['Gender'].unique()"
   ]
  },
  {
   "cell_type": "code",
   "execution_count": 19,
   "id": "1c657785-dbae-4915-a61b-9ce31f33ed55",
   "metadata": {},
   "outputs": [],
   "source": [
    "# with open('df_limpio.csv', 'w') as file:\n",
    "#     file.write(df.to_csv(index=False))         # Guardamos el archivo limpio para que los índices no \n",
    "#                                     # sean un problema\n",
    "# df = pd.read_csv('df_limpio.csv', )\n",
    "# df"
   ]
  },
  {
   "cell_type": "markdown",
   "id": "0701a7e3-d42e-4695-a0fe-6177b8172e7f",
   "metadata": {},
   "source": [
    "## Separación del conjunto y preparación de modelos"
   ]
  },
  {
   "cell_type": "code",
   "execution_count": 20,
   "id": "fb0eda9c-59a8-4d05-beff-5e72a3196615",
   "metadata": {},
   "outputs": [],
   "source": [
    "X, y = df.drop('Selector', axis = 1), df['Selector']"
   ]
  },
  {
   "cell_type": "code",
   "execution_count": 21,
   "id": "3f7cf520-26fa-42d7-a3ba-ccf2fc14be78",
   "metadata": {},
   "outputs": [
    {
     "data": {
      "text/plain": [
       "((400, 10), (400,))"
      ]
     },
     "execution_count": 21,
     "metadata": {},
     "output_type": "execute_result"
    }
   ],
   "source": [
    "X.shape, y.shape"
   ]
  },
  {
   "cell_type": "code",
   "execution_count": 22,
   "id": "97a7d3b0-5fb1-47dc-8812-206ba2b0b981",
   "metadata": {},
   "outputs": [],
   "source": [
    "from sklearn.model_selection import StratifiedShuffleSplit\n",
    "\n",
    "from sklearn.tree import DecisionTreeClassifier, DecisionTreeRegressor\n",
    "from sklearn.neighbors import KNeighborsClassifier\n",
    "from sklearn.linear_model import LogisticRegression\n",
    "\n",
    "from sklearn.model_selection import validation_curve"
   ]
  },
  {
   "cell_type": "code",
   "execution_count": 23,
   "id": "660d6d8b-21de-4820-ba89-c44e8e5948d4",
   "metadata": {},
   "outputs": [],
   "source": [
    "subconjuntos = StratifiedShuffleSplit(n_splits=10, test_size=0.2, random_state = 73)\n",
    "\n",
    "arbol = DecisionTreeClassifier()\n",
    "knn = KNeighborsClassifier()\n",
    "regresion = LogisticRegression()\n",
    "\n",
    "modelo = DecisionTreeRegressor()\n",
    "\n",
    "metrica = 'recall'"
   ]
  },
  {
   "cell_type": "raw",
   "id": "1b82403c-b29c-4720-a469-575d944f0d9b",
   "metadata": {},
   "source": [
    "La métrica a usar será la sensivilidad, pues al tratarse de temas médicos es \n",
    "mejor que levante más falsos positivos que falsos negativos"
   ]
  },
  {
   "cell_type": "code",
   "execution_count": 24,
   "id": "55fd8e2b-6fe7-4450-995d-1f38fb5aad82",
   "metadata": {},
   "outputs": [],
   "source": [
    "selected_score = dict()"
   ]
  },
  {
   "cell_type": "markdown",
   "id": "6db86ff9-0418-4d6c-8555-45cbc2491523",
   "metadata": {},
   "source": [
    "## DecisionTreeClassifier"
   ]
  },
  {
   "cell_type": "code",
   "execution_count": 25,
   "id": "2d25a898-9196-4fea-85c8-ca2994087c55",
   "metadata": {},
   "outputs": [
    {
     "data": {
      "image/png": "[encoded data removed]",
      "text/plain": [
       "<Figure size 640x480 with 1 Axes>"
      ]
     },
     "metadata": {},
     "output_type": "display_data"
    }
   ],
   "source": [
    "train_score, test_score = validation_curve(arbol, X, y, param_name = 'max_depth', param_range= range(1,11),\n",
    "                                           cv = subconjuntos, scoring=metrica)#, error_score='raise')\n",
    "\n",
    "\n",
    "x, f_x = train_score.mean(axis = 1), test_score.mean(axis = 1)\n",
    "x.shape, f_x.shape\n",
    "# # train_score\n",
    "plt.plot(range(1,11), x, 's:b', label = 'train')\n",
    "plt.plot(range(1,11), f_x, 's:r', label = 'test')\n",
    "plt.xlabel('Profundidad')\n",
    "plt.ylabel(metrica.capitalize())\n",
    "plt.ylim(0,1)\n",
    "plt.grid(True)\n",
    "plt.legend()\n",
    "plt.title('DecisionTreeClassifier scores')\n",
    "plt.show()"
   ]
  },
  {
   "cell_type": "markdown",
   "id": "eb2b063a-a051-4bf7-867c-5e29fa81ebfb",
   "metadata": {},
   "source": [
    "Para este modélo considero que el valor más adecuado para probabilidad es 4,\n",
    "pues la diferencia es notable entre los scores de train y test, y además les \n",
    "va muy bien con scores superiores al 0.85 en sensibilidad, y no eligiría ninguna otra profundidad \n",
    "porque a valores del score de test le empieza a ir muy mal con valores inferiores a 0.7; y para valores inferiors a 4 niveles de profundidad la diferencia parece muy poca, como si generalizara mucho."
   ]
  },
  {
   "cell_type": "code",
   "execution_count": 26,
   "id": "0622c49c-2071-4cad-9e03-f60cb977bc82",
   "metadata": {},
   "outputs": [
    {
     "data": {
      "text/plain": [
       "{'Arbol': (np.float64(0.9589108910891089), np.float64(0.8784313725490197))}"
      ]
     },
     "execution_count": 26,
     "metadata": {},
     "output_type": "execute_result"
    }
   ],
   "source": [
    "n = 4\n",
    "selected_score['Arbol'] = (x[n-1], f_x[n-1])\n",
    "selected_score"
   ]
  },
  {
   "cell_type": "markdown",
   "id": "64a9b9a2-5955-416e-863b-df4ff0707ce8",
   "metadata": {},
   "source": [
    "## KNN"
   ]
  },
  {
   "cell_type": "code",
   "execution_count": 27,
   "id": "fce36968-0e89-4490-8efd-8d87516ad267",
   "metadata": {},
   "outputs": [
    {
     "data": {
      "image/png": "[encoded data removed]",
      "text/plain": [
       "<Figure size 640x480 with 1 Axes>"
      ]
     },
     "metadata": {},
     "output_type": "display_data"
    }
   ],
   "source": [
    "train_score, test_score = validation_curve(knn, X, y, param_name = 'n_neighbors', param_range= range(3,22, 2), cv = subconjuntos, scoring=metrica)\n",
    "\n",
    "x, f_x = train_score.mean(axis = 1), test_score.mean(axis = 1)\n",
    "plt.plot(range(3, 22, 2), x, 's:b', label = 'train',)\n",
    "plt.plot(range(3, 22, 2), f_x, 's:r', label = 'test')\n",
    "plt.xlabel('No. Vecinos')\n",
    "plt.ylabel(metrica.capitalize())\n",
    "plt.ylim(0,1)\n",
    "plt.legend()\n",
    "plt.grid()\n",
    "plt.title('KNN scores')\n",
    "plt.gca().invert_xaxis()\n",
    "plt.grid(True)\n",
    "# plt.figure(figsize=(20, 7))\n",
    "plt.show()"
   ]
  },
  {
   "cell_type": "raw",
   "id": "1c211e72-839c-406d-9332-73dcd8a522d9",
   "metadata": {},
   "source": [
    "Aqui el mejor valor para k parece ser k = 11 pues a partir de aquí la distancia\n",
    "entre los puntajes parece ser considerable, pues para k > 11 los scores aun están\n",
    "muy similares, y para k < 11 los scores ya están muy separados y el score de test\n",
    "empieza a bajar mucho"
   ]
  },
  {
   "cell_type": "code",
   "execution_count": 28,
   "id": "4b9e1932-890b-48c7-91c3-a07167ea02d6",
   "metadata": {},
   "outputs": [
    {
     "data": {
      "text/plain": [
       "{'Arbol': (np.float64(0.9589108910891089), np.float64(0.8784313725490197)),\n",
       " 'Knn': (np.float64(0.8475247524752476), np.float64(0.7725490196078431))}"
      ]
     },
     "execution_count": 28,
     "metadata": {},
     "output_type": "execute_result"
    }
   ],
   "source": [
    "k = 5\n",
    "selected_score['Knn'] = (x[k-1], f_x[k-1])\n",
    "selected_score"
   ]
  },
  {
   "cell_type": "markdown",
   "id": "c4ae7664-fcf9-4820-ae68-8d19d7dd2819",
   "metadata": {},
   "source": [
    "## LogisticRegresion"
   ]
  },
  {
   "cell_type": "code",
   "execution_count": 29,
   "id": "95d56d04-b44d-467b-a4dc-0e59f0aa29c5",
   "metadata": {},
   "outputs": [],
   "source": [
    "import warnings\n",
    "from sklearn.exceptions import ConvergenceWarning\n",
    "warnings.filterwarnings(\"ignore\", category=ConvergenceWarning)"
   ]
  },
  {
   "cell_type": "code",
   "execution_count": 30,
   "id": "544e5948-792f-401d-96a0-c93f7c4300e2",
   "metadata": {},
   "outputs": [
    {
     "data": {
      "image/png": "[encoded data removed]",
      "text/plain": [
       "<Figure size 640x480 with 1 Axes>"
      ]
     },
     "metadata": {},
     "output_type": "display_data"
    }
   ],
   "source": [
    "p_range = np.logspace(-8,2,11)\n",
    "\n",
    "train_score, test_score = validation_curve(regresion, X, y, param_name = 'C', param_range= p_range, cv = subconjuntos, scoring=metrica)\n",
    "\n",
    "x, f_x = train_score.mean(axis = 1), test_score.mean(axis = 1)\n",
    "plt.plot(p_range, x, 's:b', label = 'train')\n",
    "plt.plot(p_range, f_x, 's:r', label = 'test')\n",
    "plt.xlabel('C')\n",
    "plt.xscale('log')\n",
    "plt.ylabel(metrica.capitalize())\n",
    "plt.ylim(0,1.2)\n",
    "plt.legend()\n",
    "plt.grid()\n",
    "plt.title('LogisticRegresion scores')\n",
    "plt.show()"
   ]
  },
  {
   "cell_type": "markdown",
   "id": "336a9057-d146-4901-9edd-0c0283ffbc61",
   "metadata": {},
   "source": [
    "Con regresión logística les fué bastante bien, casi no varian los scores, y las\n",
    "diferencias son muy pequeñas. Sin embargo creo que el mejor valor para C es 10⁻³\n",
    "pues para este valor le fue mejor a test que a traing, algo que casi no se ve."
   ]
  },
  {
   "cell_type": "code",
   "execution_count": 31,
   "id": "535ad0fc-1f6c-42bd-9d6a-df36d13a6190",
   "metadata": {},
   "outputs": [
    {
     "data": {
      "text/plain": [
       "{'Arbol': (np.float64(0.9589108910891089), np.float64(0.8784313725490197)),\n",
       " 'Knn': (np.float64(0.8475247524752476), np.float64(0.7725490196078431)),\n",
       " 'Regresion': (np.float64(0.8826732673267328), np.float64(0.8980392156862746))}"
      ]
     },
     "execution_count": 31,
     "metadata": {},
     "output_type": "execute_result"
    }
   ],
   "source": [
    "c = 6\n",
    "selected_score['Regresion'] = (x[c-1], f_x[c-1])\n",
    "selected_score"
   ]
  },
  {
   "cell_type": "markdown",
   "id": "73a42f3b-4bae-4a52-8bb2-8375073087d2",
   "metadata": {},
   "source": [
    "## Comparación final"
   ]
  },
  {
   "cell_type": "code",
   "execution_count": 32,
   "id": "97cfee4c-2a6c-4427-b8ee-8ef119ffe9cc",
   "metadata": {},
   "outputs": [
    {
     "data": {
      "image/png": "[encoded data removed]",
      "text/plain": [
       "<Figure size 1000x600 with 1 Axes>"
      ]
     },
     "metadata": {},
     "output_type": "display_data"
    }
   ],
   "source": [
    "plt.figure(figsize=(10, 6))\n",
    "trains = []\n",
    "tests = []\n",
    "\n",
    "\n",
    "\n",
    "for i, (categoria, vals) in enumerate(selected_score.items()):\n",
    "    trains.append(vals[0])\n",
    "    tests.append(vals[1])\n",
    "    x = [i,i]\n",
    "    plt.scatter(x, vals, label=categoria)\n",
    "\n",
    "categorias = list(selected_score.keys())\n",
    "plt.xticks(range(len(categorias)), categorias)\n",
    "plt.xlabel('Categorías')\n",
    "plt.ylabel('Recall')\n",
    "plt.ylim(0.5,1)\n",
    "plt.title('Score por Categoría')\n",
    "plt.grid(True)\n",
    "\n",
    "plt.plot(range(len(categorias)), tests, ':k', label = 'tests')\n",
    "plt.plot(range(len(categorias)), trains, ':r', label = 'trains')\n",
    "plt.legend()\n",
    "\n",
    "\n",
    "# Mostrar el gráfico\n",
    "plt.show();"
   ]
  }
 ],
 "metadata": {
  "kernelspec": {
   "display_name": "Python 3 (ipykernel)",
   "language": "python",
   "name": "python3"
  },
  "language_info": {
   "codemirror_mode": {
    "name": "ipython",
    "version": 3
   },
   "file_extension": ".py",
   "mimetype": "text/x-python",
   "name": "python",
   "nbconvert_exporter": "python",
   "pygments_lexer": "ipython3",
   "version": "3.12.3"
  }
 },
 "nbformat": 4,
 "nbformat_minor": 5
}
